{
 "cells": [
  {
   "cell_type": "code",
   "execution_count": 1,
   "metadata": {
    "id": "v73svrdBVc1Y"
   },
   "outputs": [],
   "source": [
    "import sagemaker\n",
    "from sagemaker.pytorch import PyTorch"
   ]
  },
  {
   "cell_type": "code",
   "execution_count": null,
   "metadata": {
    "id": "E1H_FeJIVvP8"
   },
   "outputs": [],
   "source": [
    "role = sagemaker.get_execution_role()"
   ]
  },
  {
   "cell_type": "code",
   "execution_count": null,
   "metadata": {
    "id": "cw3RKI2rVk76"
   },
   "outputs": [],
   "source": [
    "estimator = PyTorch(entry_point='model.py',\n",
    "                    role=role,\n",
    "                    framework_version='1.8.0',\n",
    "                    py_version='py3',\n",
    "                    instance_count=1,\n",
    "                    instance_type='ml.g4dn.xlarge',\n",
    "                    hyperparameters={'batch-size': 64, 'epochs': 50},\n",
    "                    metric_definitions=[{\"Name\": \"training_loss\", \"Regex\": \"training Loss: ([0-9]*\\.?[0-9]*)\"},\n",
    "                                        {\"Name\": \"training_acc\", \"Regex\": \"training Acc: ([0-9]*\\.?[0-9]*)\"},\n",
    "                                        {\"Name\": \"training_topk\", \"Regex\": \"training Top 3 Acc: ([0-9]*\\.?[0-9]*)\"},\n",
    "                                        {\"Name\": \"val_loss\", \"Regex\": \"validation Loss: ([0-9]*\\.?[0-9]*)\"},\n",
    "                                        {\"Name\": \"val_acc\", \"Regex\": \"validation Acc: ([0-9]*\\.?[0-9]*)\"},\n",
    "                                        {\"Name\": \"val_topk\", \"Regex\": \"validation Top 3 Acc: ([0-9]*\\.?[0-9]*)\"},]\n",
    "                   )"
   ]
  },
  {
   "cell_type": "code",
   "execution_count": null,
   "metadata": {
    "id": "3E_42o-SWMaW"
   },
   "outputs": [],
   "source": [
    "estimator.fit({'training': \"s3://sagemaker-studio-l8oqpg48qhm/living_room_style/\"})"
   ]
  },
  {
   "cell_type": "code",
   "execution_count": null,
   "metadata": {},
   "outputs": [],
   "source": []
  }
 ],
 "metadata": {
  "colab": {
   "authorship_tag": "ABX9TyMGSrFwUy9UOD3kJcxgwUNb",
   "collapsed_sections": [],
   "name": "sagemaker.ipynb",
   "provenance": []
  },
  "instance_type": "ml.t3.medium",
  "kernelspec": {
   "display_name": "Python 3 (PyTorch 1.6 Python 3.6 GPU Optimized)",
   "language": "python",
   "name": "python3__SAGEMAKER_INTERNAL__arn:aws:sagemaker:us-east-1:081325390199:image/pytorch-1.6-gpu-py36-cu110-ubuntu18.04-v3"
  },
  "language_info": {
   "codemirror_mode": {
    "name": "ipython",
    "version": 3
   },
   "file_extension": ".py",
   "mimetype": "text/x-python",
   "name": "python",
   "nbconvert_exporter": "python",
   "pygments_lexer": "ipython3",
   "version": "3.6.13"
  }
 },
 "nbformat": 4,
 "nbformat_minor": 4
}
